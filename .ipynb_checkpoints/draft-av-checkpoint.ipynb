{
 "cells": [
  {
   "cell_type": "markdown",
   "metadata": {},
   "source": [
    "# NFL Players Draft Position vs Career AV, by Position"
   ]
  },
  {
   "cell_type": "code",
   "execution_count": 42,
   "metadata": {},
   "outputs": [],
   "source": [
    "import os\n",
    "import requests\n",
    "import re\n",
    "import csv\n",
    "import json\n",
    "import time\n",
    "import html\n",
    "import string\n",
    "import itertools\n",
    "from geojson import Feature, FeatureCollection, Point"
   ]
  },
  {
   "cell_type": "code",
   "execution_count": 27,
   "metadata": {},
   "outputs": [],
   "source": [
    "players = []\n",
    "with open(\"player-url-raw.txt\") as f:\n",
    "    for line in f:\n",
    "        count = 0\n",
    "        match = re.findall('<a href=\"([^\"]*)', line)\n",
    "        if(match and len(match) > 30):\n",
    "            players = match"
   ]
  },
  {
   "cell_type": "code",
   "execution_count": 38,
   "metadata": {},
   "outputs": [
    {
     "name": "stdout",
     "output_type": "stream",
     "text": [
      "Successfully retrieved players from letter A\n",
      "Successfully retrieved players from letter B\n",
      "Successfully retrieved players from letter C\n",
      "Successfully retrieved players from letter D\n",
      "Successfully retrieved players from letter E\n",
      "Successfully retrieved players from letter F\n",
      "Successfully retrieved players from letter G\n",
      "Successfully retrieved players from letter H\n",
      "Successfully retrieved players from letter I\n",
      "Successfully retrieved players from letter J\n",
      "Successfully retrieved players from letter K\n",
      "Successfully retrieved players from letter L\n",
      "Successfully retrieved players from letter M\n",
      "Successfully retrieved players from letter N\n",
      "Successfully retrieved players from letter O\n",
      "Successfully retrieved players from letter P\n",
      "Successfully retrieved players from letter Q\n",
      "Successfully retrieved players from letter R\n",
      "Successfully retrieved players from letter S\n",
      "Successfully retrieved players from letter T\n",
      "Successfully retrieved players from letter U\n",
      "Successfully retrieved players from letter V\n",
      "Successfully retrieved players from letter W\n",
      "Successfully retrieved players from letter Y\n",
      "Successfully retrieved players from letter Z\n"
     ]
    }
   ],
   "source": [
    "letters = list(string.ascii_uppercase)\n",
    "players = []\n",
    "time_start = time.perf_counter()\n",
    "time_elapsed = 0\n",
    "\n",
    "for num in range(len(letters)):\n",
    "    URL = 'https://www.pro-football-reference.com/players/' + letters[num] + '/'\n",
    "    data = requests.get(URL, stream=True)\n",
    "    for line in data.iter_lines():\n",
    "        match = re.findall('<a href=\"([^\"]*)', str(line))\n",
    "        if(match and len(match) > 30):\n",
    "            players.append(match)\n",
    "            print(\"Successfully retrieved players from letter \" + letters[num])"
   ]
  },
  {
   "cell_type": "code",
   "execution_count": 46,
   "metadata": {},
   "outputs": [],
   "source": [
    "flatten = itertools.chain.from_iterable\n",
    "players_flat = list(flatten(players))"
   ]
  },
  {
   "cell_type": "code",
   "execution_count": 87,
   "metadata": {},
   "outputs": [
    {
     "name": "stdout",
     "output_type": "stream",
     "text": [
      "RB\n"
     ]
    }
   ],
   "source": [
    "letters = list(string.ascii_uppercase)\n",
    "time_start = time.perf_counter()\n",
    "time_elapsed = 0\n",
    "av = []\n",
    "draft = []\n",
    "position = []\n",
    "\n",
    "for num in range(len(players_flat)):\n",
    "    URL = 'https://www.pro-football-reference.com' + players_flat[num]\n",
    "    data = requests.get(URL, stream=True)\n",
    "    \n",
    "    av_val = -1\n",
    "    draft_val = -1\n",
    "    position_val = \"null\"\n",
    "    \n",
    "    if (data.status_code == 200):\n",
    "        for line in data.iter_lines():\n",
    "            line = str(line)[2:]\n",
    "\n",
    "            match_av = re.search(\"Weighted Career AV \\(100-95-...\\)</a>:</strong> (\\d*)\", line)\n",
    "            if (match_av):\n",
    "                av_val = match_av.group(1)\n",
    "\n",
    "            match_draft = re.search(\"in the [\\d]nd round \\((\\d*)\", line)\n",
    "            if (match_draft):\n",
    "                draft_val = match_draft.group(1)\n",
    "\n",
    "            match_position = re.search(\"Position</strong>: ([A-Z]*)\", line)\n",
    "            if (match_position):\n",
    "                position_val = match_position.group(1)\n",
    "    else:\n",
    "        print(\"could not access page \" + URL + \" at index \" + str(num))\n",
    "            \n",
    "    av.append(av_val)\n",
    "    draft.append(draft_val)\n",
    "    position.append(position_val)\n",
    "    \n",
    "    time_elapsed = time.perf_counter() - time_start\n",
    "    if((num + 1) % 100 == 0):\n",
    "        print(\"\\n\", num + 1, \"players processed.\", int(((num + 1) / len(players_flat)) * 100), \"% done\")\n",
    "        print(int(time_elapsed), \"seconds elapsed.\")\n",
    "        eta = int((time_elapsed / num + 1) * (len(players_flat) - num + 1))\n",
    "        if(eta > 59):\n",
    "            eta_min = int(eta / 60)\n",
    "            eta_sec = int(eta % eta_min)\n",
    "            print(\"ETA:\", eta_min, \"minutes and\", eta_sec, \"seconds.\")\n",
    "        else:\n",
    "            print(\"ETA:\", eta, \"seconds.\")\n"
   ]
  },
  {
   "cell_type": "code",
   "execution_count": null,
   "metadata": {},
   "outputs": [],
   "source": []
  }
 ],
 "metadata": {
  "kernelspec": {
   "display_name": "Python 3",
   "language": "python",
   "name": "python3"
  },
  "language_info": {
   "codemirror_mode": {
    "name": "ipython",
    "version": 3
   },
   "file_extension": ".py",
   "mimetype": "text/x-python",
   "name": "python",
   "nbconvert_exporter": "python",
   "pygments_lexer": "ipython3",
   "version": "3.8.3"
  },
  "varInspector": {
   "cols": {
    "lenName": 16,
    "lenType": 16,
    "lenVar": 40
   },
   "kernels_config": {
    "python": {
     "delete_cmd_postfix": "",
     "delete_cmd_prefix": "del ",
     "library": "var_list.py",
     "varRefreshCmd": "print(var_dic_list())"
    },
    "r": {
     "delete_cmd_postfix": ") ",
     "delete_cmd_prefix": "rm(",
     "library": "var_list.r",
     "varRefreshCmd": "cat(var_dic_list()) "
    }
   },
   "types_to_exclude": [
    "module",
    "function",
    "builtin_function_or_method",
    "instance",
    "_Feature"
   ],
   "window_display": false
  }
 },
 "nbformat": 4,
 "nbformat_minor": 4
}
